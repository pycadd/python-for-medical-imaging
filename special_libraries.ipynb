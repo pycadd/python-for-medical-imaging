{
 "cells": [
  {
   "attachments": {},
   "cell_type": "markdown",
   "metadata": {},
   "source": [
    "# Special Libraries for Medical Imaging"
   ]
  },
  {
   "attachments": {},
   "cell_type": "markdown",
   "metadata": {},
   "source": [
    "## Pydicom"
   ]
  },
  {
   "attachments": {},
   "cell_type": "markdown",
   "metadata": {},
   "source": [
    "### Reading and Displaying DICOM Images:"
   ]
  },
  {
   "cell_type": "code",
   "execution_count": null,
   "metadata": {},
   "outputs": [],
   "source": [
    "import pydicom\n",
    "import matplotlib.pyplot as plt\n",
    "\n",
    "# Load a DICOM image using PyDICOM\n",
    "dcm = pydicom.dcmread('image.dcm')\n",
    "\n",
    "# Display the image using Matplotlib\n",
    "plt.imshow(dcm.pixel_array, cmap='gray')\n",
    "plt.title('DICOM Image')\n",
    "plt.show()"
   ]
  },
  {
   "attachments": {},
   "cell_type": "markdown",
   "metadata": {},
   "source": [
    "### Extracting Metadata from DICOM Images:"
   ]
  },
  {
   "cell_type": "code",
   "execution_count": null,
   "metadata": {},
   "outputs": [],
   "source": [
    "import pydicom\n",
    "\n",
    "# Load a DICOM image using PyDICOM\n",
    "dcm = pydicom.dcmread('image.dcm')\n",
    "\n",
    "# Extract metadata from the image using PyDICOM\n",
    "print(f\"Patient ID: {dcm.PatientID}\")\n",
    "print(f\"Study Date: {dcm.StudyDate}\")\n",
    "print(f\"Modality: {dcm.Modality}\")"
   ]
  },
  {
   "attachments": {},
   "cell_type": "markdown",
   "metadata": {},
   "source": [
    "### Applying Windowing to DICOM Images:"
   ]
  },
  {
   "cell_type": "code",
   "execution_count": null,
   "metadata": {},
   "outputs": [],
   "source": [
    "import pydicom\n",
    "import numpy as np\n",
    "import matplotlib.pyplot as plt\n",
    "\n",
    "# Load a DICOM image using PyDICOM\n",
    "dcm = pydicom.dcmread('image.dcm')\n",
    "\n",
    "# Apply windowing to the image using PyDICOM\n",
    "image = dcm.pixel_array * dcm.RescaleSlope + dcm.RescaleIntercept\n",
    "image = np.clip(image, -1000, 1000)\n",
    "\n",
    "# Display the windowed image using Matplotlib\n",
    "plt.imshow(image, cmap='gray')\n",
    "plt.title('Windowed DICOM Image')\n",
    "plt.show()"
   ]
  },
  {
   "attachments": {},
   "cell_type": "markdown",
   "metadata": {},
   "source": [
    "### Converting DICOM Images to Numpy Arrays:"
   ]
  },
  {
   "cell_type": "code",
   "execution_count": null,
   "metadata": {},
   "outputs": [],
   "source": [
    "import pydicom\n",
    "import numpy as np\n",
    "\n",
    "# Load a DICOM image using PyDICOM\n",
    "dcm = pydicom.dcmread('image.dcm')\n",
    "\n",
    "# Convert the image to a Numpy array using PyDICOM\n",
    "image = dcm.pixel_array\n",
    "\n",
    "# Save the Numpy array as a binary file\n",
    "np.save('image.npy', image)\n",
    "\n",
    "# Load the Numpy array from the binary file\n",
    "loaded_image = np.load('image.npy')"
   ]
  },
  {
   "attachments": {},
   "cell_type": "markdown",
   "metadata": {},
   "source": [
    "---------------------------------------------------------"
   ]
  },
  {
   "attachments": {},
   "cell_type": "markdown",
   "metadata": {},
   "source": [
    "## Nibabel"
   ]
  },
  {
   "attachments": {},
   "cell_type": "markdown",
   "metadata": {},
   "source": [
    "### Reading and Displaying NIfTI Images:"
   ]
  },
  {
   "cell_type": "code",
   "execution_count": null,
   "metadata": {},
   "outputs": [],
   "source": [
    "import nibabel as nib\n",
    "import matplotlib.pyplot as plt\n",
    "\n",
    "# Load a NIfTI image using Nibabel\n",
    "nii = nib.load('image.nii.gz')\n",
    "\n",
    "# Display the image using Matplotlib\n",
    "plt.imshow(nii.get_fdata()[:,:,0], cmap='gray')\n",
    "plt.title('NIfTI Image')\n",
    "plt.show()"
   ]
  },
  {
   "attachments": {},
   "cell_type": "markdown",
   "metadata": {},
   "source": [
    "### Extracting Metadata from NIfTI Images:"
   ]
  },
  {
   "cell_type": "code",
   "execution_count": null,
   "metadata": {},
   "outputs": [],
   "source": [
    "import nibabel as nib\n",
    "\n",
    "# Load a NIfTI image using Nibabel\n",
    "nii = nib.load('image.nii.gz')\n",
    "\n",
    "# Extract metadata from the image using Nibabel\n",
    "print(f\"Data shape: {nii.shape}\")\n",
    "print(f\"Voxel size: {nii.header['pixdim']}\")\n",
    "print(f\"Data type: {nii.get_fdata().dtype}\")"
   ]
  },
  {
   "attachments": {},
   "cell_type": "markdown",
   "metadata": {},
   "source": [
    "### Applying Transformation Matrix to NIfTI Images:"
   ]
  },
  {
   "cell_type": "code",
   "execution_count": null,
   "metadata": {},
   "outputs": [],
   "source": [
    "import nibabel as nib\n",
    "import numpy as np\n",
    "\n",
    "# Load a NIfTI image using Nibabel\n",
    "nii = nib.load('image.nii.gz')\n",
    "\n",
    "# Define a transformation matrix for the image using Nibabel\n",
    "affine = np.array([[1, 0, 0, 0], [0, 1, 0, 0], [0, 0, 1, 0], [0, 0, 0, 1]])\n",
    "\n",
    "# Apply the transformation matrix to the image using Nibabel\n",
    "nii.set_qform(affine)\n",
    "\n",
    "# Save the transformed image using Nibabel\n",
    "nib.save(nii, 'transformed_image.nii.gz')"
   ]
  },
  {
   "attachments": {},
   "cell_type": "markdown",
   "metadata": {},
   "source": [
    "---------------------------------------------------------"
   ]
  },
  {
   "attachments": {},
   "cell_type": "markdown",
   "metadata": {},
   "source": [
    "## SimpleITK"
   ]
  },
  {
   "attachments": {},
   "cell_type": "markdown",
   "metadata": {},
   "source": [
    "### Reading and Displaying DICOM Images:"
   ]
  },
  {
   "cell_type": "code",
   "execution_count": null,
   "metadata": {},
   "outputs": [],
   "source": [
    "import SimpleITK as sitk\n",
    "import matplotlib.pyplot as plt\n",
    "\n",
    "# Load a DICOM image using SimpleITK\n",
    "dcm = sitk.ReadImage('image.dcm')\n",
    "\n",
    "# Convert the image to a Numpy array using SimpleITK\n",
    "image = sitk.GetArrayFromImage(dcm)\n",
    "\n",
    "# Display the image using Matplotlib\n",
    "plt.imshow(image[0], cmap='gray')\n",
    "plt.title('DICOM Image')\n",
    "plt.show()"
   ]
  },
  {
   "attachments": {},
   "cell_type": "markdown",
   "metadata": {},
   "source": [
    "### Extracting Metadata from DICOM Images:"
   ]
  },
  {
   "cell_type": "code",
   "execution_count": null,
   "metadata": {},
   "outputs": [],
   "source": [
    "import SimpleITK as sitk\n",
    "\n",
    "# Load a DICOM image using SimpleITK\n",
    "dcm = sitk.ReadImage('image.dcm')\n",
    "\n",
    "# Extract metadata from the image using SimpleITK\n",
    "print(f\"Patient ID: {dcm.GetMetaData('0010|0020')}\")\n",
    "print(f\"Study Date: {dcm.GetMetaData('0008|0020')}\")\n",
    "print(f\"Modality: {dcm.GetMetaData('0008|0060')}\")"
   ]
  },
  {
   "attachments": {},
   "cell_type": "markdown",
   "metadata": {},
   "source": [
    "### Applying Transformation to DICOM Images:"
   ]
  },
  {
   "cell_type": "code",
   "execution_count": null,
   "metadata": {},
   "outputs": [],
   "source": [
    "import SimpleITK as sitk\n",
    "\n",
    "# Load a DICOM image using SimpleITK\n",
    "dcm = sitk.ReadImage('image.dcm')\n",
    "\n",
    "# Define a transformation matrix for the image using SimpleITK\n",
    "transform = sitk.AffineTransform(3)\n",
    "transform.SetMatrix([1,0,0,0,1,0,0,0,1])\n",
    "\n",
    "# Apply the transformation to the image using SimpleITK\n",
    "transformed_image = sitk.Resample(dcm, transform)\n",
    "\n",
    "# Save the transformed image using SimpleITK\n",
    "sitk.WriteImage(transformed_image, 'transformed_image.dcm')"
   ]
  },
  {
   "attachments": {},
   "cell_type": "markdown",
   "metadata": {},
   "source": [
    "### Converting DICOM Images to Numpy Arrays:"
   ]
  },
  {
   "cell_type": "code",
   "execution_count": null,
   "metadata": {},
   "outputs": [],
   "source": [
    "import SimpleITK as sitk\n",
    "import numpy as np\n",
    "\n",
    "# Load a DICOM image using SimpleITK\n",
    "dcm = sitk.ReadImage('image.dcm')\n",
    "\n",
    "# Convert the image to a Numpy array using SimpleITK\n",
    "image = sitk.GetArrayFromImage(dcm)\n",
    "\n",
    "# Save the Numpy array as a binary file\n",
    "np.save('image.npy', image)\n",
    "\n",
    "# Load the Numpy array from the binary file\n",
    "loaded_image = np.load('image.npy')"
   ]
  },
  {
   "attachments": {},
   "cell_type": "markdown",
   "metadata": {},
   "source": [
    "### Applying Gaussian Smoothing to DICOM Images:"
   ]
  },
  {
   "cell_type": "code",
   "execution_count": null,
   "metadata": {},
   "outputs": [],
   "source": [
    "import SimpleITK as sitk\n",
    "\n",
    "# Load a DICOM image using SimpleITK\n",
    "dcm = sitk.ReadImage('image.dcm')\n",
    "\n",
    "# Apply Gaussian smoothing to the image using SimpleITK\n",
    "smoothed_image = sitk.SmoothingRecursiveGaussian(dcm, 1.0)\n",
    "\n",
    "# Save the smoothed image using SimpleITK\n",
    "sitk.WriteImage(smoothed_image, 'smoothed_image.dcm')"
   ]
  },
  {
   "attachments": {},
   "cell_type": "markdown",
   "metadata": {},
   "source": [
    "### Applying Image Resampling to DICOM Images:"
   ]
  },
  {
   "cell_type": "code",
   "execution_count": null,
   "metadata": {},
   "outputs": [],
   "source": [
    "import SimpleITK as sitk\n",
    "\n",
    "# Load a DICOM image using SimpleITK\n",
    "dcm = sitk.ReadImage('image.dcm')\n",
    "\n",
    "# Define the desired spacing for the image using SimpleITK\n",
    "desired_spacing = [0.5, 0.5, 1.0]\n",
    "\n",
    "# Apply image resampling to the image using SimpleITK\n",
    "resampled_image = sitk.Resample(dcm, sitk.Transform(), sitk.sitkLinear, 0.0, dcm.GetPixelID(), dcm.GetDirection(), desired_spacing, dcm.GetOrigin())\n",
    "\n",
    "# Save the resampled image using SimpleITK\n",
    "sitk.WriteImage(resampled_image, 'resampled_image.dcm')"
   ]
  },
  {
   "attachments": {},
   "cell_type": "markdown",
   "metadata": {},
   "source": [
    "### Applying Image Registration to DICOM Images:"
   ]
  },
  {
   "cell_type": "code",
   "execution_count": null,
   "metadata": {},
   "outputs": [],
   "source": [
    "import SimpleITK as sitk\n",
    "\n",
    "# Load two DICOM images using SimpleITK\n",
    "fixed_image = sitk.ReadImage('fixed_image.dcm')\n",
    "moving_image = sitk.ReadImage('moving_image.dcm')\n",
    "\n",
    "# Define the registration method and parameters using SimpleITK\n",
    "registration_method = sitk.ImageRegistrationMethod()\n",
    "registration_method.SetMetricAsMeanSquares()\n",
    "registration_method.SetOptimizerAsGradientDescent(learningRate=1.0, numberOfIterations=100, convergenceMinimumValue=1e-6, convergenceWindowSize=10)\n",
    "registration_method.SetInitialTransform(sitk.TranslationTransform(fixed_image.GetDimension()))\n",
    "registration_method.SetInterpolator(sitk.sitkLinear)\n",
    "\n",
    "# Apply image registration to the images using SimpleITK\n",
    "transform = registration_method.Execute(fixed_image, moving_image)\n",
    "\n",
    "# Save the registered image using SimpleITK\n",
    "registered_image = sitk.Resample(moving_image, transform)\n",
    "sitk.WriteImage(registered_image, 'registered_image.dcm')"
   ]
  },
  {
   "attachments": {},
   "cell_type": "markdown",
   "metadata": {},
   "source": [
    "### Applying Intensity Normalization to DICOM Images:"
   ]
  },
  {
   "cell_type": "code",
   "execution_count": null,
   "metadata": {},
   "outputs": [],
   "source": [
    "import SimpleITK as sitk\n",
    "\n",
    "# Load a DICOM image using SimpleITK\n",
    "dcm = sitk.ReadImage('image.dcm')\n",
    "\n",
    "# Apply intensity normalization to the image using SimpleITK\n",
    "intensity_filter = sitk.IntensityWindowingImageFilter()\n",
    "intensity_filter.SetOutputMaximum(1.0)\n",
    "intensity_filter.SetOutputMinimum(0.0)\n",
    "intensity_filter.SetWindowMinimum(-1000)\n",
    "intensity_filter.SetWindowMaximum(1000)\n",
    "normalized_image = intensity_filter.Execute(dcm)\n",
    "\n",
    "# Save the normalized image using SimpleITK\n",
    "sitk.WriteImage(normalized_image, 'normalized_image.dcm')"
   ]
  },
  {
   "attachments": {},
   "cell_type": "markdown",
   "metadata": {},
   "source": [
    "### Applying Image Segmentation to DICOM Images:"
   ]
  },
  {
   "cell_type": "code",
   "execution_count": null,
   "metadata": {},
   "outputs": [],
   "source": [
    "import SimpleITK as sitk\n",
    "\n",
    "# Load a DICOM image using SimpleITK\n",
    "dcm = sitk.ReadImage('image.dcm')\n",
    "\n",
    "# Apply image segmentation to the image using SimpleITK\n",
    "segmentation_filter = sitk.ConnectedThresholdImageFilter()\n",
    "segmentation_filter.SetLower(100)\n",
    "segmentation_filter.SetUpper(400)\n",
    "segmentation_filter.SetReplaceValue(1)\n",
    "segmentation_filter.SetSeed([50, 50, 50])\n",
    "segmented_image = segmentation_filter.Execute(dcm)\n",
    "\n",
    "# Save the segmented image using SimpleITK\n",
    "sitk.WriteImage(segmented_image, 'segmented_image.dcm')"
   ]
  },
  {
   "attachments": {},
   "cell_type": "markdown",
   "metadata": {},
   "source": [
    "--------------------------------------"
   ]
  },
  {
   "attachments": {},
   "cell_type": "markdown",
   "metadata": {},
   "source": [
    "## Numpy-stl"
   ]
  },
  {
   "attachments": {},
   "cell_type": "markdown",
   "metadata": {},
   "source": [
    "### Reading and Displaying STL Models:"
   ]
  },
  {
   "cell_type": "code",
   "execution_count": null,
   "metadata": {},
   "outputs": [],
   "source": [
    "from stl import mesh\n",
    "import numpy as np\n",
    "import matplotlib.pyplot as plt\n",
    "\n",
    "# Load an STL model using numpy-stl\n",
    "model = mesh.Mesh.from_file('model.stl')\n",
    "\n",
    "# Convert the model to a Numpy array using numpy-stl\n",
    "vertices = np.array(model.vectors)\n",
    "\n",
    "# Display the model using Matplotlib\n",
    "fig = plt.figure()\n",
    "ax = fig.add_subplot(111, projection='3d')\n",
    "for vertex in vertices:\n",
    "    ax.plot_trisurf(vertex[:,0], vertex[:,1], vertex[:,2])\n",
    "plt.title('STL Model')\n",
    "plt.show()"
   ]
  },
  {
   "attachments": {},
   "cell_type": "markdown",
   "metadata": {},
   "source": [
    "### Creating and Saving STL Models:"
   ]
  },
  {
   "cell_type": "code",
   "execution_count": null,
   "metadata": {},
   "outputs": [],
   "source": [
    "from stl import mesh\n",
    "import numpy as np\n",
    "\n",
    "# Define the vertices and faces of an STL model using numpy-stl\n",
    "vertices = np.array([\n",
    "    [0, 0, 0],\n",
    "    [0, 0, 1],\n",
    "    [0, 1, 0],\n",
    "    [1, 0, 0],\n",
    "    [0, 1, 1],\n",
    "    [1, 0, 1],\n",
    "    [1, 1, 0],\n",
    "    [1, 1, 1]\n",
    "])\n",
    "faces = np.array([\n",
    "    [0, 1, 2],\n",
    "    [1, 3, 5],\n",
    "    [3, 6, 5],\n",
    "    [2, 7, 4],\n",
    "    [0, 2, 4],\n",
    "    [1, 5, 7],\n",
    "    [7, 6, 5],\n",
    "    [2, 1, 7],\n",
    "    [0, 4, 3],\n",
    "    [3, 4, 6],\n",
    "    [2, 1, 0],\n",
    "    [7, 5, 3]\n",
    "])\n",
    "model = mesh.Mesh(np.zeros(faces.shape[0], dtype=mesh.Mesh.dtype))\n",
    "for i, face in enumerate(faces):\n",
    "    for j, vertex in enumerate(face):\n",
    "        model.vectors[i][j] = vertices[vertex]\n",
    "\n",
    "# Save the model as an STL file using numpy-stl\n",
    "model.save('new_model.stl')"
   ]
  },
  {
   "attachments": {},
   "cell_type": "markdown",
   "metadata": {},
   "source": [
    "### Applying Transformation to STL Models:"
   ]
  },
  {
   "cell_type": "code",
   "execution_count": null,
   "metadata": {},
   "outputs": [],
   "source": [
    "from stl import mesh\n",
    "import numpy as np\n",
    "\n",
    "# Load an STL model using numpy-stl\n",
    "model = mesh.Mesh.from_file('model.stl')\n",
    "\n",
    "# Define a transformation matrix for the model using numpy-stl\n",
    "transformation = np.array([\n",
    "    [1, 0, 0, 10],\n",
    "    [0, 1, 0, 10],\n",
    "    [0, 0, 1, 10],\n",
    "    [0, 0, 0, 1]\n",
    "])\n",
    "\n",
    "# Apply the transformation matrix to the model using numpy-stl\n",
    "model.apply_transform(transformation)\n",
    "\n",
    "# Save the transformed model as an STL file using numpy-stl\n",
    "model.save('transformed_model.stl')"
   ]
  },
  {
   "attachments": {},
   "cell_type": "markdown",
   "metadata": {},
   "source": [
    "### Convert Nifti Files into STL Files"
   ]
  },
  {
   "cell_type": "code",
   "execution_count": null,
   "metadata": {},
   "outputs": [],
   "source": [
    "import nibabel as nib\n",
    "import numpy as np\n",
    "from stl import mesh\n",
    "from skimage import measure\n",
    "\n",
    "# Path to the nifti file (.nii, .nii.gz)\n",
    "file_path = 'segmentation.nii'\n",
    "\n",
    "# Extract the numpy array\n",
    "nifti_file = nib.load(file_path)\n",
    "np_array = nifti_file.get_fdata()\n",
    "\n",
    "verts, faces, normals, values = measure.marching_cubes(np_array, 0)\n",
    "obj_3d = mesh.Mesh(np.zeros(faces.shape[0], dtype=mesh.Mesh.dtype))\n",
    "\n",
    "for i, f in enumerate(faces):\n",
    "    obj_3d.vectors[i] = verts[f]\n",
    "\n",
    "# Save the STL file with the name and the path\n",
    "obj_3d.save('segmentation.stl')"
   ]
  },
  {
   "attachments": {},
   "cell_type": "markdown",
   "metadata": {},
   "source": [
    "----------------------------------------------------------------"
   ]
  },
  {
   "attachments": {},
   "cell_type": "markdown",
   "metadata": {},
   "source": [
    "## Scikit-image"
   ]
  },
  {
   "attachments": {},
   "cell_type": "markdown",
   "metadata": {},
   "source": [
    "### Reading and Displaying Images:"
   ]
  },
  {
   "cell_type": "code",
   "execution_count": null,
   "metadata": {},
   "outputs": [],
   "source": [
    "import skimage.io as io\n",
    "import matplotlib.pyplot as plt\n",
    "\n",
    "# Load an image using scikit-image\n",
    "image = io.imread('image.png')\n",
    "\n",
    "# Display the image using Matplotlib\n",
    "plt.imshow(image, cmap='gray')\n",
    "plt.title('Image')\n",
    "plt.show()"
   ]
  },
  {
   "attachments": {},
   "cell_type": "markdown",
   "metadata": {},
   "source": [
    "### Applying Image Filtering:"
   ]
  },
  {
   "cell_type": "code",
   "execution_count": null,
   "metadata": {},
   "outputs": [],
   "source": [
    "import skimage.filters as filters\n",
    "\n",
    "# Load an image using scikit-image\n",
    "image = io.imread('image.png')\n",
    "\n",
    "# Apply Gaussian filtering to the image using scikit-image\n",
    "filtered_image = filters.gaussian(image, sigma=2)\n",
    "\n",
    "# Display the filtered image using Matplotlib\n",
    "plt.imshow(filtered_image, cmap='gray')\n",
    "plt.title('Filtered Image')\n",
    "plt.show()"
   ]
  },
  {
   "attachments": {},
   "cell_type": "markdown",
   "metadata": {},
   "source": [
    "### Applying Image Segmentation:"
   ]
  },
  {
   "cell_type": "code",
   "execution_count": null,
   "metadata": {},
   "outputs": [],
   "source": [
    "import skimage.segmentation as segmentation\n",
    "\n",
    "# Load an image using scikit-image\n",
    "image = io.imread('image.png')\n",
    "\n",
    "# Apply Otsu thresholding to the image using scikit-image\n",
    "threshold = filters.threshold_otsu(image)\n",
    "binary_image = image > threshold\n",
    "\n",
    "# Apply morphological closing to the binary image using scikit-image\n",
    "closed_image = segmentation.closing(binary_image)\n",
    "\n",
    "# Display the segmented image using Matplotlib\n",
    "plt.imshow(closed_image, cmap='gray')\n",
    "plt.title('Segmented Image')\n",
    "plt.show()"
   ]
  },
  {
   "attachments": {},
   "cell_type": "markdown",
   "metadata": {},
   "source": [
    "### Applying Image Registration:"
   ]
  },
  {
   "cell_type": "code",
   "execution_count": null,
   "metadata": {},
   "outputs": [],
   "source": [
    "import skimage.transform as transform\n",
    "\n",
    "# Load two images using scikit-image\n",
    "fixed_image = io.imread('fixed_image.png')\n",
    "moving_image = io.imread('moving_image.png')\n",
    "\n",
    "# Apply image registration to the images using scikit-image\n",
    "registered_image = transform.match_histograms(moving_image, fixed_image)\n",
    "\n",
    "# Display the registered image using Matplotlib\n",
    "plt.imshow(registered_image, cmap='gray')\n",
    "plt.title('Registered Image')\n",
    "plt.show()"
   ]
  },
  {
   "attachments": {},
   "cell_type": "markdown",
   "metadata": {},
   "source": [
    "--------------------------------------------------------------"
   ]
  },
  {
   "attachments": {},
   "cell_type": "markdown",
   "metadata": {},
   "source": [
    "## ITK"
   ]
  },
  {
   "attachments": {},
   "cell_type": "markdown",
   "metadata": {},
   "source": [
    "### Reading and Displaying Images:"
   ]
  },
  {
   "cell_type": "code",
   "execution_count": null,
   "metadata": {},
   "outputs": [],
   "source": [
    "import itk\n",
    "import matplotlib.pyplot as plt\n",
    "\n",
    "# Load an image using ITK\n",
    "image = itk.imread('image.nii')\n",
    "\n",
    "# Convert the image to a Numpy array using ITK\n",
    "array = itk.array_view_from_image(image)\n",
    "\n",
    "# Display the image using Matplotlib\n",
    "plt.imshow(array[0], cmap='gray')\n",
    "plt.title('Image')\n",
    "plt.show()"
   ]
  },
  {
   "attachments": {},
   "cell_type": "markdown",
   "metadata": {},
   "source": [
    "### Applying Image Filtering:"
   ]
  },
  {
   "cell_type": "code",
   "execution_count": null,
   "metadata": {},
   "outputs": [],
   "source": [
    "import itk\n",
    "\n",
    "# Load an image using ITK\n",
    "image = itk.imread('image.nii')\n",
    "\n",
    "# Apply Gaussian smoothing to the image using ITK\n",
    "smooth_filter = itk.DiscreteGaussianImageFilter.New(image)\n",
    "smooth_filter.SetVariance(2)\n",
    "smoothed_image = smooth_filter.Update()\n",
    "\n",
    "# Save the filtered image using ITK\n",
    "itk.imwrite(smoothed_image, 'smoothed_image.nii')"
   ]
  },
  {
   "attachments": {},
   "cell_type": "markdown",
   "metadata": {},
   "source": [
    "### Applying Image Segmentation:"
   ]
  },
  {
   "cell_type": "code",
   "execution_count": null,
   "metadata": {},
   "outputs": [],
   "source": [
    "import itk\n",
    "\n",
    "# Load an image using ITK\n",
    "image = itk.imread('image.nii')\n",
    "\n",
    "# Apply Otsu thresholding to the image using ITK\n",
    "otsu_filter = itk.OtsuThresholdImageFilter.New(image)\n",
    "otsu_filter.SetInsideValue(1)\n",
    "otsu_filter.SetOutsideValue(0)\n",
    "binary_image = otsu_filter.Update()\n",
    "\n",
    "# Apply morphological closing to the binary image using ITK\n",
    "closing_filter = itk.BinaryMorphologicalClosingImageFilter.New(binary_image)\n",
    "closing_filter.SetKernel(itk.strel('ball', 5))\n",
    "closed_image = closing_filter.Update()\n",
    "\n",
    "# Save the segmented image using ITK\n",
    "itk.imwrite(closed_image, 'segmented_image.nii')"
   ]
  },
  {
   "attachments": {},
   "cell_type": "markdown",
   "metadata": {},
   "source": [
    "### Applying Image Registration:"
   ]
  },
  {
   "cell_type": "code",
   "execution_count": null,
   "metadata": {},
   "outputs": [],
   "source": [
    "import itk\n",
    "\n",
    "# Load two images using ITK\n",
    "fixed_image = itk.imread('fixed_image.nii')\n",
    "moving_image = itk.imread('moving_image.nii')\n",
    "\n",
    "# Define the registration method and parameters using ITK\n",
    "registration_method = itk.ImageRegistrationMethod.New(fixed_image=fixed_image, moving_image=moving_image)\n",
    "registration_method.SetMetricAsMeanSquares()\n",
    "registration_method.SetOptimizerAsGradientDescentLineSearch(learning_rate=1.0, number_of_iterations=100, convergence_minimum_value=1e-6, convergence_window_size=10)\n",
    "registration_method.SetInitialTransform(itk.TranslationTransform[itk.D, 3].New())\n",
    "registration_method.SetInterpolator(itk.LinearInterpolateImageFunction.New(fixed_image))\n",
    "\n",
    "# Apply image registration to the images using ITK\n",
    "registration_method.Update()\n",
    "\n",
    "# Save the registered image using ITK\n",
    "registered_image = itk.ResampleImageFilter.New(moving_image, transform=registration_method.GetTransform(), default_pixel_value=0)\n",
    "itk.imwrite(registered_image, 'registered_image.nii')"
   ]
  }
 ],
 "metadata": {
  "language_info": {
   "name": "python"
  },
  "orig_nbformat": 4
 },
 "nbformat": 4,
 "nbformat_minor": 2
}
