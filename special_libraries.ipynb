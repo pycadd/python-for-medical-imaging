{
 "cells": [
  {
   "attachments": {},
   "cell_type": "markdown",
   "metadata": {},
   "source": [
    "# Special Libraries for Medical Imaging"
   ]
  },
  {
   "attachments": {},
   "cell_type": "markdown",
   "metadata": {},
   "source": [
    "## Pydicom"
   ]
  },
  {
   "attachments": {},
   "cell_type": "markdown",
   "metadata": {},
   "source": [
    "### Reading and Displaying DICOM Images:"
   ]
  },
  {
   "cell_type": "code",
   "execution_count": null,
   "metadata": {},
   "outputs": [],
   "source": [
    "import pydicom\n",
    "import matplotlib.pyplot as plt\n",
    "\n",
    "# Load a DICOM image using PyDICOM\n",
    "dcm = pydicom.dcmread('image.dcm')\n",
    "\n",
    "# Display the image using Matplotlib\n",
    "plt.imshow(dcm.pixel_array, cmap='gray')\n",
    "plt.title('DICOM Image')\n",
    "plt.show()"
   ]
  },
  {
   "attachments": {},
   "cell_type": "markdown",
   "metadata": {},
   "source": [
    "### Extracting Metadata from DICOM Images:"
   ]
  },
  {
   "cell_type": "code",
   "execution_count": null,
   "metadata": {},
   "outputs": [],
   "source": [
    "import pydicom\n",
    "\n",
    "# Load a DICOM image using PyDICOM\n",
    "dcm = pydicom.dcmread('image.dcm')\n",
    "\n",
    "# Extract metadata from the image using PyDICOM\n",
    "print(f\"Patient ID: {dcm.PatientID}\")\n",
    "print(f\"Study Date: {dcm.StudyDate}\")\n",
    "print(f\"Modality: {dcm.Modality}\")"
   ]
  },
  {
   "attachments": {},
   "cell_type": "markdown",
   "metadata": {},
   "source": [
    "### Applying Windowing to DICOM Images:"
   ]
  },
  {
   "cell_type": "code",
   "execution_count": null,
   "metadata": {},
   "outputs": [],
   "source": [
    "import pydicom\n",
    "import numpy as np\n",
    "import matplotlib.pyplot as plt\n",
    "\n",
    "# Load a DICOM image using PyDICOM\n",
    "dcm = pydicom.dcmread('image.dcm')\n",
    "\n",
    "# Apply windowing to the image using PyDICOM\n",
    "image = dcm.pixel_array * dcm.RescaleSlope + dcm.RescaleIntercept\n",
    "image = np.clip(image, -1000, 1000)\n",
    "\n",
    "# Display the windowed image using Matplotlib\n",
    "plt.imshow(image, cmap='gray')\n",
    "plt.title('Windowed DICOM Image')\n",
    "plt.show()"
   ]
  },
  {
   "attachments": {},
   "cell_type": "markdown",
   "metadata": {},
   "source": [
    "### Converting DICOM Images to Numpy Arrays:"
   ]
  },
  {
   "cell_type": "code",
   "execution_count": null,
   "metadata": {},
   "outputs": [],
   "source": [
    "import pydicom\n",
    "import numpy as np\n",
    "\n",
    "# Load a DICOM image using PyDICOM\n",
    "dcm = pydicom.dcmread('image.dcm')\n",
    "\n",
    "# Convert the image to a Numpy array using PyDICOM\n",
    "image = dcm.pixel_array\n",
    "\n",
    "# Save the Numpy array as a binary file\n",
    "np.save('image.npy', image)\n",
    "\n",
    "# Load the Numpy array from the binary file\n",
    "loaded_image = np.load('image.npy')"
   ]
  },
  {
   "attachments": {},
   "cell_type": "markdown",
   "metadata": {},
   "source": [
    "---------------------------------------------------------"
   ]
  },
  {
   "attachments": {},
   "cell_type": "markdown",
   "metadata": {},
   "source": [
    "## Nibabel"
   ]
  },
  {
   "attachments": {},
   "cell_type": "markdown",
   "metadata": {},
   "source": [
    "### Reading and Displaying NIfTI Images:"
   ]
  },
  {
   "cell_type": "code",
   "execution_count": null,
   "metadata": {},
   "outputs": [],
   "source": [
    "import nibabel as nib\n",
    "import matplotlib.pyplot as plt\n",
    "\n",
    "# Load a NIfTI image using Nibabel\n",
    "nii = nib.load('image.nii.gz')\n",
    "\n",
    "# Display the image using Matplotlib\n",
    "plt.imshow(nii.get_fdata()[:,:,0], cmap='gray')\n",
    "plt.title('NIfTI Image')\n",
    "plt.show()"
   ]
  },
  {
   "attachments": {},
   "cell_type": "markdown",
   "metadata": {},
   "source": [
    "### Extracting Metadata from NIfTI Images:"
   ]
  },
  {
   "cell_type": "code",
   "execution_count": null,
   "metadata": {},
   "outputs": [],
   "source": [
    "import nibabel as nib\n",
    "\n",
    "# Load a NIfTI image using Nibabel\n",
    "nii = nib.load('image.nii.gz')\n",
    "\n",
    "# Extract metadata from the image using Nibabel\n",
    "print(f\"Data shape: {nii.shape}\")\n",
    "print(f\"Voxel size: {nii.header['pixdim']}\")\n",
    "print(f\"Data type: {nii.get_fdata().dtype}\")"
   ]
  },
  {
   "attachments": {},
   "cell_type": "markdown",
   "metadata": {},
   "source": [
    "### Applying Transformation Matrix to NIfTI Images:"
   ]
  },
  {
   "cell_type": "code",
   "execution_count": null,
   "metadata": {},
   "outputs": [],
   "source": [
    "import nibabel as nib\n",
    "import numpy as np\n",
    "\n",
    "# Load a NIfTI image using Nibabel\n",
    "nii = nib.load('image.nii.gz')\n",
    "\n",
    "# Define a transformation matrix for the image using Nibabel\n",
    "affine = np.array([[1, 0, 0, 0], [0, 1, 0, 0], [0, 0, 1, 0], [0, 0, 0, 1]])\n",
    "\n",
    "# Apply the transformation matrix to the image using Nibabel\n",
    "nii.set_qform(affine)\n",
    "\n",
    "# Save the transformed image using Nibabel\n",
    "nib.save(nii, 'transformed_image.nii.gz')"
   ]
  },
  {
   "attachments": {},
   "cell_type": "markdown",
   "metadata": {},
   "source": [
    "---------------------------------------------------------"
   ]
  },
  {
   "attachments": {},
   "cell_type": "markdown",
   "metadata": {},
   "source": [
    "## SimpleITK"
   ]
  },
  {
   "attachments": {},
   "cell_type": "markdown",
   "metadata": {},
   "source": [
    "### Reading and Displaying DICOM Images:"
   ]
  },
  {
   "cell_type": "code",
   "execution_count": null,
   "metadata": {},
   "outputs": [],
   "source": [
    "import SimpleITK as sitk\n",
    "import matplotlib.pyplot as plt\n",
    "\n",
    "# Load a DICOM image using SimpleITK\n",
    "dcm = sitk.ReadImage('image.dcm')\n",
    "\n",
    "# Convert the image to a Numpy array using SimpleITK\n",
    "image = sitk.GetArrayFromImage(dcm)\n",
    "\n",
    "# Display the image using Matplotlib\n",
    "plt.imshow(image[0], cmap='gray')\n",
    "plt.title('DICOM Image')\n",
    "plt.show()"
   ]
  },
  {
   "attachments": {},
   "cell_type": "markdown",
   "metadata": {},
   "source": [
    "### Extracting Metadata from DICOM Images:"
   ]
  },
  {
   "cell_type": "code",
   "execution_count": null,
   "metadata": {},
   "outputs": [],
   "source": [
    "import SimpleITK as sitk\n",
    "\n",
    "# Load a DICOM image using SimpleITK\n",
    "dcm = sitk.ReadImage('image.dcm')\n",
    "\n",
    "# Extract metadata from the image using SimpleITK\n",
    "print(f\"Patient ID: {dcm.GetMetaData('0010|0020')}\")\n",
    "print(f\"Study Date: {dcm.GetMetaData('0008|0020')}\")\n",
    "print(f\"Modality: {dcm.GetMetaData('0008|0060')}\")"
   ]
  },
  {
   "attachments": {},
   "cell_type": "markdown",
   "metadata": {},
   "source": [
    "### Applying Transformation to DICOM Images:"
   ]
  },
  {
   "cell_type": "code",
   "execution_count": null,
   "metadata": {},
   "outputs": [],
   "source": [
    "import SimpleITK as sitk\n",
    "\n",
    "# Load a DICOM image using SimpleITK\n",
    "dcm = sitk.ReadImage('image.dcm')\n",
    "\n",
    "# Define a transformation matrix for the image using SimpleITK\n",
    "transform = sitk.AffineTransform(3)\n",
    "transform.SetMatrix([1,0,0,0,1,0,0,0,1])\n",
    "\n",
    "# Apply the transformation to the image using SimpleITK\n",
    "transformed_image = sitk.Resample(dcm, transform)\n",
    "\n",
    "# Save the transformed image using SimpleITK\n",
    "sitk.WriteImage(transformed_image, 'transformed_image.dcm')"
   ]
  },
  {
   "attachments": {},
   "cell_type": "markdown",
   "metadata": {},
   "source": [
    "### Converting DICOM Images to Numpy Arrays:"
   ]
  },
  {
   "cell_type": "code",
   "execution_count": null,
   "metadata": {},
   "outputs": [],
   "source": [
    "import SimpleITK as sitk\n",
    "import numpy as np\n",
    "\n",
    "# Load a DICOM image using SimpleITK\n",
    "dcm = sitk.ReadImage('image.dcm')\n",
    "\n",
    "# Convert the image to a Numpy array using SimpleITK\n",
    "image = sitk.GetArrayFromImage(dcm)\n",
    "\n",
    "# Save the Numpy array as a binary file\n",
    "np.save('image.npy', image)\n",
    "\n",
    "# Load the Numpy array from the binary file\n",
    "loaded_image = np.load('image.npy')"
   ]
  },
  {
   "attachments": {},
   "cell_type": "markdown",
   "metadata": {},
   "source": [
    "### Applying Gaussian Smoothing to DICOM Images:"
   ]
  },
  {
   "cell_type": "code",
   "execution_count": null,
   "metadata": {},
   "outputs": [],
   "source": [
    "import SimpleITK as sitk\n",
    "\n",
    "# Load a DICOM image using SimpleITK\n",
    "dcm = sitk.ReadImage('image.dcm')\n",
    "\n",
    "# Apply Gaussian smoothing to the image using SimpleITK\n",
    "smoothed_image = sitk.SmoothingRecursiveGaussian(dcm, 1.0)\n",
    "\n",
    "# Save the smoothed image using SimpleITK\n",
    "sitk.WriteImage(smoothed_image, 'smoothed_image.dcm')"
   ]
  },
  {
   "attachments": {},
   "cell_type": "markdown",
   "metadata": {},
   "source": [
    "### Applying Image Resampling to DICOM Images:"
   ]
  },
  {
   "cell_type": "code",
   "execution_count": null,
   "metadata": {},
   "outputs": [],
   "source": [
    "import SimpleITK as sitk\n",
    "\n",
    "# Load a DICOM image using SimpleITK\n",
    "dcm = sitk.ReadImage('image.dcm')\n",
    "\n",
    "# Define the desired spacing for the image using SimpleITK\n",
    "desired_spacing = [0.5, 0.5, 1.0]\n",
    "\n",
    "# Apply image resampling to the image using SimpleITK\n",
    "resampled_image = sitk.Resample(dcm, sitk.Transform(), sitk.sitkLinear, 0.0, dcm.GetPixelID(), dcm.GetDirection(), desired_spacing, dcm.GetOrigin())\n",
    "\n",
    "# Save the resampled image using SimpleITK\n",
    "sitk.WriteImage(resampled_image, 'resampled_image.dcm')"
   ]
  },
  {
   "attachments": {},
   "cell_type": "markdown",
   "metadata": {},
   "source": [
    "### Applying Image Registration to DICOM Images:"
   ]
  },
  {
   "cell_type": "code",
   "execution_count": null,
   "metadata": {},
   "outputs": [],
   "source": [
    "import SimpleITK as sitk\n",
    "\n",
    "# Load two DICOM images using SimpleITK\n",
    "fixed_image = sitk.ReadImage('fixed_image.dcm')\n",
    "moving_image = sitk.ReadImage('moving_image.dcm')\n",
    "\n",
    "# Define the registration method and parameters using SimpleITK\n",
    "registration_method = sitk.ImageRegistrationMethod()\n",
    "registration_method.SetMetricAsMeanSquares()\n",
    "registration_method.SetOptimizerAsGradientDescent(learningRate=1.0, numberOfIterations=100, convergenceMinimumValue=1e-6, convergenceWindowSize=10)\n",
    "registration_method.SetInitialTransform(sitk.TranslationTransform(fixed_image.GetDimension()))\n",
    "registration_method.SetInterpolator(sitk.sitkLinear)\n",
    "\n",
    "# Apply image registration to the images using SimpleITK\n",
    "transform = registration_method.Execute(fixed_image, moving_image)\n",
    "\n",
    "# Save the registered image using SimpleITK\n",
    "registered_image = sitk.Resample(moving_image, transform)\n",
    "sitk.WriteImage(registered_image, 'registered_image.dcm')"
   ]
  },
  {
   "attachments": {},
   "cell_type": "markdown",
   "metadata": {},
   "source": [
    "### Applying Intensity Normalization to DICOM Images:"
   ]
  },
  {
   "cell_type": "code",
   "execution_count": null,
   "metadata": {},
   "outputs": [],
   "source": [
    "import SimpleITK as sitk\n",
    "\n",
    "# Load a DICOM image using SimpleITK\n",
    "dcm = sitk.ReadImage('image.dcm')\n",
    "\n",
    "# Apply intensity normalization to the image using SimpleITK\n",
    "intensity_filter = sitk.IntensityWindowingImageFilter()\n",
    "intensity_filter.SetOutputMaximum(1.0)\n",
    "intensity_filter.SetOutputMinimum(0.0)\n",
    "intensity_filter.SetWindowMinimum(-1000)\n",
    "intensity_filter.SetWindowMaximum(1000)\n",
    "normalized_image = intensity_filter.Execute(dcm)\n",
    "\n",
    "# Save the normalized image using SimpleITK\n",
    "sitk.WriteImage(normalized_image, 'normalized_image.dcm')"
   ]
  },
  {
   "attachments": {},
   "cell_type": "markdown",
   "metadata": {},
   "source": [
    "### Applying Image Segmentation to DICOM Images:"
   ]
  },
  {
   "cell_type": "code",
   "execution_count": null,
   "metadata": {},
   "outputs": [],
   "source": [
    "import SimpleITK as sitk\n",
    "\n",
    "# Load a DICOM image using SimpleITK\n",
    "dcm = sitk.ReadImage('image.dcm')\n",
    "\n",
    "# Apply image segmentation to the image using SimpleITK\n",
    "segmentation_filter = sitk.ConnectedThresholdImageFilter()\n",
    "segmentation_filter.SetLower(100)\n",
    "segmentation_filter.SetUpper(400)\n",
    "segmentation_filter.SetReplaceValue(1)\n",
    "segmentation_filter.SetSeed([50, 50, 50])\n",
    "segmented_image = segmentation_filter.Execute(dcm)\n",
    "\n",
    "# Save the segmented image using SimpleITK\n",
    "sitk.WriteImage(segmented_image, 'segmented_image.dcm')"
   ]
  }
 ],
 "metadata": {
  "language_info": {
   "name": "python"
  },
  "orig_nbformat": 4
 },
 "nbformat": 4,
 "nbformat_minor": 2
}
