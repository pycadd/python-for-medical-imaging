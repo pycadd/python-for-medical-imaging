{
 "cells": [
  {
   "attachments": {},
   "cell_type": "markdown",
   "metadata": {},
   "source": [
    "# Special Libraries for Medical Imaging"
   ]
  },
  {
   "attachments": {},
   "cell_type": "markdown",
   "metadata": {},
   "source": [
    "## Pydicom"
   ]
  },
  {
   "attachments": {},
   "cell_type": "markdown",
   "metadata": {},
   "source": [
    "### Reading and Displaying DICOM Images:"
   ]
  },
  {
   "cell_type": "code",
   "execution_count": null,
   "metadata": {},
   "outputs": [],
   "source": [
    "import pydicom\n",
    "import matplotlib.pyplot as plt\n",
    "\n",
    "# Load a DICOM image using PyDICOM\n",
    "dcm = pydicom.dcmread('image.dcm')\n",
    "\n",
    "# Display the image using Matplotlib\n",
    "plt.imshow(dcm.pixel_array, cmap='gray')\n",
    "plt.title('DICOM Image')\n",
    "plt.show()"
   ]
  },
  {
   "attachments": {},
   "cell_type": "markdown",
   "metadata": {},
   "source": [
    "### Extracting Metadata from DICOM Images:"
   ]
  },
  {
   "cell_type": "code",
   "execution_count": null,
   "metadata": {},
   "outputs": [],
   "source": [
    "import pydicom\n",
    "\n",
    "# Load a DICOM image using PyDICOM\n",
    "dcm = pydicom.dcmread('image.dcm')\n",
    "\n",
    "# Extract metadata from the image using PyDICOM\n",
    "print(f\"Patient ID: {dcm.PatientID}\")\n",
    "print(f\"Study Date: {dcm.StudyDate}\")\n",
    "print(f\"Modality: {dcm.Modality}\")"
   ]
  },
  {
   "attachments": {},
   "cell_type": "markdown",
   "metadata": {},
   "source": [
    "### Applying Windowing to DICOM Images:"
   ]
  },
  {
   "cell_type": "code",
   "execution_count": null,
   "metadata": {},
   "outputs": [],
   "source": [
    "import pydicom\n",
    "import numpy as np\n",
    "import matplotlib.pyplot as plt\n",
    "\n",
    "# Load a DICOM image using PyDICOM\n",
    "dcm = pydicom.dcmread('image.dcm')\n",
    "\n",
    "# Apply windowing to the image using PyDICOM\n",
    "image = dcm.pixel_array * dcm.RescaleSlope + dcm.RescaleIntercept\n",
    "image = np.clip(image, -1000, 1000)\n",
    "\n",
    "# Display the windowed image using Matplotlib\n",
    "plt.imshow(image, cmap='gray')\n",
    "plt.title('Windowed DICOM Image')\n",
    "plt.show()"
   ]
  },
  {
   "attachments": {},
   "cell_type": "markdown",
   "metadata": {},
   "source": [
    "### Converting DICOM Images to Numpy Arrays:"
   ]
  },
  {
   "cell_type": "code",
   "execution_count": null,
   "metadata": {},
   "outputs": [],
   "source": [
    "import pydicom\n",
    "import numpy as np\n",
    "\n",
    "# Load a DICOM image using PyDICOM\n",
    "dcm = pydicom.dcmread('image.dcm')\n",
    "\n",
    "# Convert the image to a Numpy array using PyDICOM\n",
    "image = dcm.pixel_array\n",
    "\n",
    "# Save the Numpy array as a binary file\n",
    "np.save('image.npy', image)\n",
    "\n",
    "# Load the Numpy array from the binary file\n",
    "loaded_image = np.load('image.npy')"
   ]
  },
  {
   "attachments": {},
   "cell_type": "markdown",
   "metadata": {},
   "source": [
    "---------------------------------------------------------"
   ]
  },
  {
   "attachments": {},
   "cell_type": "markdown",
   "metadata": {},
   "source": [
    "## Nibabel"
   ]
  },
  {
   "attachments": {},
   "cell_type": "markdown",
   "metadata": {},
   "source": [
    "### Reading and Displaying NIfTI Images:"
   ]
  },
  {
   "cell_type": "code",
   "execution_count": null,
   "metadata": {},
   "outputs": [],
   "source": []
  }
 ],
 "metadata": {
  "language_info": {
   "name": "python"
  },
  "orig_nbformat": 4
 },
 "nbformat": 4,
 "nbformat_minor": 2
}
